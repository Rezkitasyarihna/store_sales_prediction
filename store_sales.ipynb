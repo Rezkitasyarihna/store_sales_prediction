{
 "cells": [
  {
   "cell_type": "markdown",
   "metadata": {},
   "source": [
    "# Predicting Corporación Favorita sales through varieties of condition\n",
    "\n",
    "\n",
    "Goals:\n",
    "\n",
    "\n",
    "Forecast store sales by building model to predicts unit sales for each items sold at different stores\n",
    "\n"
   ]
  },
  {
   "cell_type": "markdown",
   "metadata": {},
   "source": [
    "# 1. Import packages"
   ]
  },
  {
   "cell_type": "code",
   "execution_count": 2,
   "metadata": {},
   "outputs": [],
   "source": [
    "#importing packages\n",
    "#basics\n",
    "import numpy as np\n",
    "import pandas as pd\n",
    "import os\n",
    "import gc\n",
    "import warnings\n",
    "\n",
    "#visualization\n",
    "import matplotlib.pyplot as plt\n",
    "import seaborn as sns\n",
    "import plotly.express as px\n"
   ]
  },
  {
   "cell_type": "markdown",
   "metadata": {},
   "source": [
    "# 2. Import data as dataframe"
   ]
  },
  {
   "cell_type": "code",
   "execution_count": 5,
   "metadata": {},
   "outputs": [],
   "source": [
    "train = pd.read_csv(r\"C:\\Users\\rzzkt\\OneDrive - Institut Teknologi Bandung\\Documents\\Rezki\\projects\\store-sales-time-series-forecasting\\train.csv\")\n",
    "test = pd.read_csv(r\"C:\\Users\\rzzkt\\OneDrive - Institut Teknologi Bandung\\Documents\\Rezki\\projects\\store-sales-time-series-forecasting\\test.csv\")\n",
    "stores = pd.read_csv(r\"C:\\Users\\rzzkt\\OneDrive - Institut Teknologi Bandung\\Documents\\Rezki\\projects\\store-sales-time-series-forecasting\\stores.csv\")\n",
    "transactions = pd.read_csv(r\"C:\\Users\\rzzkt\\OneDrive - Institut Teknologi Bandung\\Documents\\Rezki\\projects\\store-sales-time-series-forecasting\\transactions.csv\")\n",
    "oil = pd.read_csv(r\"C:\\Users\\rzzkt\\OneDrive - Institut Teknologi Bandung\\Documents\\Rezki\\projects\\store-sales-time-series-forecasting\\oil.csv\")"
   ]
  },
  {
   "cell_type": "code",
   "execution_count": null,
   "metadata": {},
   "outputs": [],
   "source": []
  }
 ],
 "metadata": {
  "kernelspec": {
   "display_name": "Python 3",
   "language": "python",
   "name": "python3"
  },
  "language_info": {
   "codemirror_mode": {
    "name": "ipython",
    "version": 3
   },
   "file_extension": ".py",
   "mimetype": "text/x-python",
   "name": "python",
   "nbconvert_exporter": "python",
   "pygments_lexer": "ipython3",
   "version": "3.9.12"
  }
 },
 "nbformat": 4,
 "nbformat_minor": 2
}
