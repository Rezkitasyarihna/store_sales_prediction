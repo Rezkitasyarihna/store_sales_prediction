{
 "cells": [
  {
   "cell_type": "markdown",
   "metadata": {},
   "source": [
    "# Predicting Corporación Favorita sales through varieties of condition\n",
    "\n",
    "\n",
    "Goals:\n",
    "\n",
    "\n",
    "Forecast store sales by building model to predicts unit sales for each items sold at different stores\n",
    "\n"
   ]
  },
  {
   "cell_type": "markdown",
   "metadata": {},
   "source": [
    "# 1. Import packages"
   ]
  },
  {
   "cell_type": "code",
   "execution_count": 1,
   "metadata": {},
   "outputs": [],
   "source": [
    "#importing packages\n",
    "#basics\n",
    "import numpy as np\n",
    "import pandas as pd\n",
    "import os\n",
    "import gc\n",
    "import warnings\n",
    "\n",
    "#visualization\n",
    "import matplotlib.pyplot as plt\n",
    "import seaborn as sns\n",
    "import plotly.express as px\n"
   ]
  },
  {
   "cell_type": "markdown",
   "metadata": {},
   "source": [
    "# 2. Import data as dataframe"
   ]
  },
  {
   "cell_type": "code",
   "execution_count": 4,
   "metadata": {},
   "outputs": [
    {
     "ename": "NameError",
     "evalue": "name 'pd' is not defined",
     "output_type": "error",
     "traceback": [
      "\u001b[1;31m---------------------------------------------------------------------------\u001b[0m",
      "\u001b[1;31mNameError\u001b[0m                                 Traceback (most recent call last)",
      "\u001b[1;32mc:\\Users\\rzzkt\\OneDrive - Institut Teknologi Bandung\\Documents\\GitHub\\store_sales_prediction\\store_sales.ipynb Cell 5\u001b[0m line \u001b[0;36m<cell line: 2>\u001b[1;34m()\u001b[0m\n\u001b[0;32m      <a href='vscode-notebook-cell:/c%3A/Users/rzzkt/OneDrive%20-%20Institut%20Teknologi%20Bandung/Documents/GitHub/store_sales_prediction/store_sales.ipynb#W4sZmlsZQ%3D%3D?line=0'>1</a>\u001b[0m \u001b[39m# train = pd.read_csv(\"C:\\Users\\rzzkt\\Downloads\\store-sales-time-series-forecasting\\train.csv\")\u001b[39;00m\n\u001b[1;32m----> <a href='vscode-notebook-cell:/c%3A/Users/rzzkt/OneDrive%20-%20Institut%20Teknologi%20Bandung/Documents/GitHub/store_sales_prediction/store_sales.ipynb#W4sZmlsZQ%3D%3D?line=1'>2</a>\u001b[0m test \u001b[39m=\u001b[39m pd\u001b[39m.\u001b[39mread_csv(\u001b[39mr\u001b[39m\u001b[39m\"\u001b[39m\u001b[39mC:\u001b[39m\u001b[39m\\\u001b[39m\u001b[39mUsers\u001b[39m\u001b[39m\\\u001b[39m\u001b[39mrzzkt\u001b[39m\u001b[39m\\\u001b[39m\u001b[39mOneDrive - Institut Teknologi Bandung\u001b[39m\u001b[39m\\\u001b[39m\u001b[39mDocuments\u001b[39m\u001b[39m\\\u001b[39m\u001b[39mRezki\u001b[39m\u001b[39m\\\u001b[39m\u001b[39mprojects\u001b[39m\u001b[39m\\\u001b[39m\u001b[39mstore-sales-time-series-forecasting\u001b[39m\u001b[39m\\\u001b[39m\u001b[39mtest.csv\u001b[39m\u001b[39m\"\u001b[39m)\n",
      "\u001b[1;31mNameError\u001b[0m: name 'pd' is not defined"
     ]
    }
   ],
   "source": [
    "# train = pd.read_csv(\"C:\\Users\\rzzkt\\Downloads\\store-sales-time-series-forecasting\\train.csv\")\n",
    "test = pd.read_csv(r\"C:\\Users\\rzzkt\\OneDrive - Institut Teknologi Bandung\\Documents\\Rezki\\projects\\store-sales-time-series-forecasting\\test.csv\")"
   ]
  }
 ],
 "metadata": {
  "kernelspec": {
   "display_name": "Python 3",
   "language": "python",
   "name": "python3"
  },
  "language_info": {
   "codemirror_mode": {
    "name": "ipython",
    "version": 3
   },
   "file_extension": ".py",
   "mimetype": "text/x-python",
   "name": "python",
   "nbconvert_exporter": "python",
   "pygments_lexer": "ipython3",
   "version": "3.9.12"
  }
 },
 "nbformat": 4,
 "nbformat_minor": 2
}
